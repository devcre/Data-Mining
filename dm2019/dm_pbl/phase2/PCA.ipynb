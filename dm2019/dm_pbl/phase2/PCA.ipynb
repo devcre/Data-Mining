{
 "cells": [
  {
   "cell_type": "code",
   "execution_count": 1,
   "metadata": {},
   "outputs": [],
   "source": [
    "import matplotlib.pyplot as plt\n",
    "import numpy as np\n",
    "import os\n",
    "import pandas as pd\n",
    "from sklearn.preprocessing import StandardScaler"
   ]
  },
  {
   "cell_type": "markdown",
   "metadata": {},
   "source": [
    "## Load Dataset"
   ]
  },
  {
   "cell_type": "code",
   "execution_count": 2,
   "metadata": {},
   "outputs": [
    {
     "data": {
      "text/html": [
       "<div>\n",
       "<style scoped>\n",
       "    .dataframe tbody tr th:only-of-type {\n",
       "        vertical-align: middle;\n",
       "    }\n",
       "\n",
       "    .dataframe tbody tr th {\n",
       "        vertical-align: top;\n",
       "    }\n",
       "\n",
       "    .dataframe thead th {\n",
       "        text-align: right;\n",
       "    }\n",
       "</style>\n",
       "<table border=\"1\" class=\"dataframe\">\n",
       "  <thead>\n",
       "    <tr style=\"text-align: right;\">\n",
       "      <th></th>\n",
       "      <th>Bo_Age</th>\n",
       "      <th>Ln_Orig</th>\n",
       "      <th>Orig_LTV_Ratio_Pct</th>\n",
       "      <th>Credit_score</th>\n",
       "      <th>First_home</th>\n",
       "      <th>Tot_mthly_debt_exp</th>\n",
       "      <th>Tot_mthly_incm</th>\n",
       "      <th>pur_prc_amt</th>\n",
       "      <th>DTI Ratio</th>\n",
       "      <th>OUTCOME</th>\n",
       "      <th>Median_state_inc</th>\n",
       "    </tr>\n",
       "  </thead>\n",
       "  <tbody>\n",
       "    <tr>\n",
       "      <td>0</td>\n",
       "      <td>37</td>\n",
       "      <td>75650.0</td>\n",
       "      <td>85</td>\n",
       "      <td>669</td>\n",
       "      <td>N</td>\n",
       "      <td>1707</td>\n",
       "      <td>6000</td>\n",
       "      <td>160000</td>\n",
       "      <td>0.284500</td>\n",
       "      <td>non-default</td>\n",
       "      <td>40,171</td>\n",
       "    </tr>\n",
       "    <tr>\n",
       "      <td>1</td>\n",
       "      <td>46</td>\n",
       "      <td>390775.0</td>\n",
       "      <td>102</td>\n",
       "      <td>684</td>\n",
       "      <td>N</td>\n",
       "      <td>0</td>\n",
       "      <td>5025</td>\n",
       "      <td>309000</td>\n",
       "      <td>0.000000</td>\n",
       "      <td>non-default</td>\n",
       "      <td>44,228</td>\n",
       "    </tr>\n",
       "    <tr>\n",
       "      <td>2</td>\n",
       "      <td>30</td>\n",
       "      <td>112500.0</td>\n",
       "      <td>90</td>\n",
       "      <td>662</td>\n",
       "      <td>Y</td>\n",
       "      <td>1812</td>\n",
       "      <td>4800</td>\n",
       "      <td>176450</td>\n",
       "      <td>0.377500</td>\n",
       "      <td>non-default</td>\n",
       "      <td>49,894</td>\n",
       "    </tr>\n",
       "    <tr>\n",
       "      <td>3</td>\n",
       "      <td>24</td>\n",
       "      <td>85250.0</td>\n",
       "      <td>97</td>\n",
       "      <td>647</td>\n",
       "      <td>N</td>\n",
       "      <td>3395</td>\n",
       "      <td>6934</td>\n",
       "      <td>110000</td>\n",
       "      <td>0.489616</td>\n",
       "      <td>non-default</td>\n",
       "      <td>43,217</td>\n",
       "    </tr>\n",
       "    <tr>\n",
       "      <td>4</td>\n",
       "      <td>35</td>\n",
       "      <td>114000.0</td>\n",
       "      <td>100</td>\n",
       "      <td>791</td>\n",
       "      <td>N</td>\n",
       "      <td>3801</td>\n",
       "      <td>5504</td>\n",
       "      <td>103000</td>\n",
       "      <td>0.690589</td>\n",
       "      <td>non-default</td>\n",
       "      <td>57,352</td>\n",
       "    </tr>\n",
       "  </tbody>\n",
       "</table>\n",
       "</div>"
      ],
      "text/plain": [
       "   Bo_Age   Ln_Orig  Orig_LTV_Ratio_Pct  Credit_score First_home  \\\n",
       "0      37   75650.0                  85           669          N   \n",
       "1      46  390775.0                 102           684          N   \n",
       "2      30  112500.0                  90           662          Y   \n",
       "3      24   85250.0                  97           647          N   \n",
       "4      35  114000.0                 100           791          N   \n",
       "\n",
       "   Tot_mthly_debt_exp  Tot_mthly_incm  pur_prc_amt  DTI Ratio      OUTCOME  \\\n",
       "0                1707            6000       160000   0.284500  non-default   \n",
       "1                   0            5025       309000   0.000000  non-default   \n",
       "2                1812            4800       176450   0.377500  non-default   \n",
       "3                3395            6934       110000   0.489616  non-default   \n",
       "4                3801            5504       103000   0.690589  non-default   \n",
       "\n",
       "  Median_state_inc  \n",
       "0           40,171  \n",
       "1           44,228  \n",
       "2           49,894  \n",
       "3           43,217  \n",
       "4           57,352  "
      ]
     },
     "execution_count": 2,
     "metadata": {},
     "output_type": "execute_result"
    }
   ],
   "source": [
    "mort = pd.read_csv('./newdata.csv', header=0) # data about mortgage\n",
    "mort.head()"
   ]
  },
  {
   "cell_type": "markdown",
   "metadata": {},
   "source": [
    "## Convert Nominal variable to Numeric variable"
   ]
  },
  {
   "cell_type": "code",
   "execution_count": 3,
   "metadata": {},
   "outputs": [
    {
     "name": "stderr",
     "output_type": "stream",
     "text": [
      "c:\\anaconda3\\envs\\dm2019\\lib\\site-packages\\ipykernel_launcher.py:10: SettingWithCopyWarning: \n",
      "A value is trying to be set on a copy of a slice from a DataFrame\n",
      "\n",
      "See the caveats in the documentation: http://pandas.pydata.org/pandas-docs/stable/user_guide/indexing.html#returning-a-view-versus-a-copy\n",
      "  # Remove the CWD from sys.path while we load stuff.\n"
     ]
    },
    {
     "data": {
      "text/html": [
       "<div>\n",
       "<style scoped>\n",
       "    .dataframe tbody tr th:only-of-type {\n",
       "        vertical-align: middle;\n",
       "    }\n",
       "\n",
       "    .dataframe tbody tr th {\n",
       "        vertical-align: top;\n",
       "    }\n",
       "\n",
       "    .dataframe thead th {\n",
       "        text-align: right;\n",
       "    }\n",
       "</style>\n",
       "<table border=\"1\" class=\"dataframe\">\n",
       "  <thead>\n",
       "    <tr style=\"text-align: right;\">\n",
       "      <th></th>\n",
       "      <th>Bo_Age</th>\n",
       "      <th>Ln_Orig</th>\n",
       "      <th>Orig_LTV_Ratio_Pct</th>\n",
       "      <th>Credit_score</th>\n",
       "      <th>First_home</th>\n",
       "      <th>Tot_mthly_debt_exp</th>\n",
       "      <th>Tot_mthly_incm</th>\n",
       "      <th>pur_prc_amt</th>\n",
       "      <th>DTI Ratio</th>\n",
       "      <th>Median_state_inc</th>\n",
       "    </tr>\n",
       "  </thead>\n",
       "  <tbody>\n",
       "    <tr>\n",
       "      <td>0</td>\n",
       "      <td>37</td>\n",
       "      <td>75650.0</td>\n",
       "      <td>85</td>\n",
       "      <td>669</td>\n",
       "      <td>0</td>\n",
       "      <td>1707</td>\n",
       "      <td>6000</td>\n",
       "      <td>160000</td>\n",
       "      <td>0.284500</td>\n",
       "      <td>40171</td>\n",
       "    </tr>\n",
       "    <tr>\n",
       "      <td>1</td>\n",
       "      <td>46</td>\n",
       "      <td>390775.0</td>\n",
       "      <td>102</td>\n",
       "      <td>684</td>\n",
       "      <td>0</td>\n",
       "      <td>0</td>\n",
       "      <td>5025</td>\n",
       "      <td>309000</td>\n",
       "      <td>0.000000</td>\n",
       "      <td>44228</td>\n",
       "    </tr>\n",
       "    <tr>\n",
       "      <td>2</td>\n",
       "      <td>30</td>\n",
       "      <td>112500.0</td>\n",
       "      <td>90</td>\n",
       "      <td>662</td>\n",
       "      <td>1</td>\n",
       "      <td>1812</td>\n",
       "      <td>4800</td>\n",
       "      <td>176450</td>\n",
       "      <td>0.377500</td>\n",
       "      <td>49894</td>\n",
       "    </tr>\n",
       "    <tr>\n",
       "      <td>3</td>\n",
       "      <td>24</td>\n",
       "      <td>85250.0</td>\n",
       "      <td>97</td>\n",
       "      <td>647</td>\n",
       "      <td>0</td>\n",
       "      <td>3395</td>\n",
       "      <td>6934</td>\n",
       "      <td>110000</td>\n",
       "      <td>0.489616</td>\n",
       "      <td>43217</td>\n",
       "    </tr>\n",
       "    <tr>\n",
       "      <td>4</td>\n",
       "      <td>35</td>\n",
       "      <td>114000.0</td>\n",
       "      <td>100</td>\n",
       "      <td>791</td>\n",
       "      <td>0</td>\n",
       "      <td>3801</td>\n",
       "      <td>5504</td>\n",
       "      <td>103000</td>\n",
       "      <td>0.690589</td>\n",
       "      <td>57352</td>\n",
       "    </tr>\n",
       "    <tr>\n",
       "      <td>...</td>\n",
       "      <td>...</td>\n",
       "      <td>...</td>\n",
       "      <td>...</td>\n",
       "      <td>...</td>\n",
       "      <td>...</td>\n",
       "      <td>...</td>\n",
       "      <td>...</td>\n",
       "      <td>...</td>\n",
       "      <td>...</td>\n",
       "      <td>...</td>\n",
       "    </tr>\n",
       "    <tr>\n",
       "      <td>10602</td>\n",
       "      <td>37</td>\n",
       "      <td>280200.0</td>\n",
       "      <td>95</td>\n",
       "      <td>652</td>\n",
       "      <td>1</td>\n",
       "      <td>727</td>\n",
       "      <td>1827</td>\n",
       "      <td>80000</td>\n",
       "      <td>0.397920</td>\n",
       "      <td>42590</td>\n",
       "    </tr>\n",
       "    <tr>\n",
       "      <td>10603</td>\n",
       "      <td>30</td>\n",
       "      <td>57000.0</td>\n",
       "      <td>94</td>\n",
       "      <td>589</td>\n",
       "      <td>0</td>\n",
       "      <td>1703</td>\n",
       "      <td>3941</td>\n",
       "      <td>108000</td>\n",
       "      <td>0.432124</td>\n",
       "      <td>45787</td>\n",
       "    </tr>\n",
       "    <tr>\n",
       "      <td>10604</td>\n",
       "      <td>33</td>\n",
       "      <td>153200.0</td>\n",
       "      <td>95</td>\n",
       "      <td>675</td>\n",
       "      <td>1</td>\n",
       "      <td>1726</td>\n",
       "      <td>3707</td>\n",
       "      <td>154000</td>\n",
       "      <td>0.465606</td>\n",
       "      <td>43217</td>\n",
       "    </tr>\n",
       "    <tr>\n",
       "      <td>10605</td>\n",
       "      <td>38</td>\n",
       "      <td>158850.0</td>\n",
       "      <td>100</td>\n",
       "      <td>786</td>\n",
       "      <td>1</td>\n",
       "      <td>1364</td>\n",
       "      <td>2500</td>\n",
       "      <td>92000</td>\n",
       "      <td>0.545600</td>\n",
       "      <td>40171</td>\n",
       "    </tr>\n",
       "    <tr>\n",
       "      <td>10606</td>\n",
       "      <td>37</td>\n",
       "      <td>47000.0</td>\n",
       "      <td>89</td>\n",
       "      <td>683</td>\n",
       "      <td>1</td>\n",
       "      <td>2251</td>\n",
       "      <td>8541</td>\n",
       "      <td>189000</td>\n",
       "      <td>0.263552</td>\n",
       "      <td>41275</td>\n",
       "    </tr>\n",
       "  </tbody>\n",
       "</table>\n",
       "<p>10607 rows × 10 columns</p>\n",
       "</div>"
      ],
      "text/plain": [
       "       Bo_Age   Ln_Orig  Orig_LTV_Ratio_Pct  Credit_score  First_home  \\\n",
       "0          37   75650.0                  85           669           0   \n",
       "1          46  390775.0                 102           684           0   \n",
       "2          30  112500.0                  90           662           1   \n",
       "3          24   85250.0                  97           647           0   \n",
       "4          35  114000.0                 100           791           0   \n",
       "...       ...       ...                 ...           ...         ...   \n",
       "10602      37  280200.0                  95           652           1   \n",
       "10603      30   57000.0                  94           589           0   \n",
       "10604      33  153200.0                  95           675           1   \n",
       "10605      38  158850.0                 100           786           1   \n",
       "10606      37   47000.0                  89           683           1   \n",
       "\n",
       "       Tot_mthly_debt_exp  Tot_mthly_incm  pur_prc_amt  DTI Ratio  \\\n",
       "0                    1707            6000       160000   0.284500   \n",
       "1                       0            5025       309000   0.000000   \n",
       "2                    1812            4800       176450   0.377500   \n",
       "3                    3395            6934       110000   0.489616   \n",
       "4                    3801            5504       103000   0.690589   \n",
       "...                   ...             ...          ...        ...   \n",
       "10602                 727            1827        80000   0.397920   \n",
       "10603                1703            3941       108000   0.432124   \n",
       "10604                1726            3707       154000   0.465606   \n",
       "10605                1364            2500        92000   0.545600   \n",
       "10606                2251            8541       189000   0.263552   \n",
       "\n",
       "      Median_state_inc  \n",
       "0                40171  \n",
       "1                44228  \n",
       "2                49894  \n",
       "3                43217  \n",
       "4                57352  \n",
       "...                ...  \n",
       "10602            42590  \n",
       "10603            45787  \n",
       "10604            43217  \n",
       "10605            40171  \n",
       "10606            41275  \n",
       "\n",
       "[10607 rows x 10 columns]"
      ]
     },
     "execution_count": 3,
     "metadata": {},
     "output_type": "execute_result"
    }
   ],
   "source": [
    "## First_home 문자형 데이터 변환\n",
    "mort['First_home'] = np.where(mort['First_home']=='Y',1,0)\n",
    "mort['First_home']\n",
    "\n",
    "## OUTCOME 데이터 변환\n",
    "mort['OUTCOME'] = np.where(mort['OUTCOME']=='non-default',0,1) # non-default = 0, default = 1\n",
    "\n",
    "## string 타입을 정수로 변환하기\n",
    "for k in range(0,10607):\n",
    "    mort.Median_state_inc[k] = np.float64(mort.Median_state_inc[k].replace(\",\", \"\"))\n",
    "\n",
    "## Separating 'target' feature\n",
    "outcome = mort.OUTCOME\n",
    "mort.drop(['OUTCOME'], axis='columns', inplace=True)\n",
    "\n",
    "mort"
   ]
  },
  {
   "cell_type": "code",
   "execution_count": 4,
   "metadata": {},
   "outputs": [],
   "source": [
    "from sklearn.preprocessing import StandardScaler\n",
    "\n",
    "features = ['Bo_Age', 'Ln_Orig', 'Orig_LTV_Ratio_Pct', 'Credit_score',\n",
    "            'First_home', 'Tot_mthly_debt_exp', 'Tot_mthly_incm', 'pur_prc_amt',\n",
    "            'DTI Ratio', 'Median_state_inc']"
   ]
  },
  {
   "cell_type": "code",
   "execution_count": 7,
   "metadata": {},
   "outputs": [],
   "source": [
    "# X, y = mort, outcome\n",
    "## training data와 test data 나누기\n",
    "from sklearn.model_selection import train_test_split\n",
    "X_train, X_test, y_train, y_test = train_test_split(mort, outcome, test_size=0.2, random_state=1)"
   ]
  },
  {
   "cell_type": "code",
   "execution_count": 9,
   "metadata": {},
   "outputs": [],
   "source": [
    "scaler = StandardScaler()\n",
    "X_std = scaler.fit_transform(X_train, y_train)\n",
    "X_test_std = scaler.transform(X_test)"
   ]
  },
  {
   "cell_type": "code",
   "execution_count": 29,
   "metadata": {},
   "outputs": [],
   "source": [
    "from sklearn.decomposition import PCA\n",
    "pca = PCA(n_components=2)"
   ]
  },
  {
   "cell_type": "code",
   "execution_count": 30,
   "metadata": {},
   "outputs": [
    {
     "data": {
      "text/plain": [
       "array([[-63777.54339745, -33516.36370845],\n",
       "       [-53280.35751072,  17428.2214968 ],\n",
       "       [-48254.09975019, -60789.23857685],\n",
       "       ...,\n",
       "       [-75001.83210414,   2282.40979022],\n",
       "       [-46063.73589658,  76002.09563925],\n",
       "       [ 18296.22242366, -29386.49126628]])"
      ]
     },
     "execution_count": 30,
     "metadata": {},
     "output_type": "execute_result"
    }
   ],
   "source": [
    "pca.fit_transform(X_train)"
   ]
  },
  {
   "cell_type": "code",
   "execution_count": 31,
   "metadata": {},
   "outputs": [
    {
     "name": "stdout",
     "output_type": "stream",
     "text": [
      "[0.59734109 0.39958049]\n"
     ]
    }
   ],
   "source": [
    "print(pca.explained_variance_ratio_)"
   ]
  },
  {
   "cell_type": "code",
   "execution_count": 32,
   "metadata": {},
   "outputs": [
    {
     "data": {
      "text/plain": [
       "array([[-7.69390297e-07, -3.15718423e-01, -2.05052146e-06,\n",
       "         9.43586225e-05, -5.56975651e-07,  6.57305798e-03,\n",
       "         1.77031239e-02,  9.48473836e-01,  7.32609495e-08,\n",
       "         1.90432658e-02],\n",
       "       [ 9.10742761e-06,  9.48825204e-01, -1.86414279e-05,\n",
       "        -2.81136997e-05,  1.09153647e-07, -5.27721724e-04,\n",
       "        -6.75058875e-04,  3.15780919e-01,  8.49240942e-08,\n",
       "         3.52247984e-03]])"
      ]
     },
     "execution_count": 32,
     "metadata": {},
     "output_type": "execute_result"
    }
   ],
   "source": [
    "pca.components_"
   ]
  },
  {
   "cell_type": "code",
   "execution_count": 18,
   "metadata": {},
   "outputs": [
    {
     "data": {
      "text/plain": [
       "-13.802203079357549"
      ]
     },
     "execution_count": 18,
     "metadata": {},
     "output_type": "execute_result"
    }
   ],
   "source": [
    "# score(self, X, y=None) : Average log-likelihood of the samples under the current model\n",
    "\n",
    "sco = pca.score(X)\n",
    "sco"
   ]
  },
  {
   "cell_type": "code",
   "execution_count": 13,
   "metadata": {},
   "outputs": [
    {
     "data": {
      "text/plain": [
       "-13.611393860016296"
      ]
     },
     "execution_count": 13,
     "metadata": {},
     "output_type": "execute_result"
    }
   ],
   "source": [
    "sco"
   ]
  },
  {
   "cell_type": "code",
   "execution_count": null,
   "metadata": {},
   "outputs": [],
   "source": []
  }
 ],
 "metadata": {
  "kernelspec": {
   "display_name": "Python 3",
   "language": "python",
   "name": "python3"
  },
  "language_info": {
   "codemirror_mode": {
    "name": "ipython",
    "version": 3
   },
   "file_extension": ".py",
   "mimetype": "text/x-python",
   "name": "python",
   "nbconvert_exporter": "python",
   "pygments_lexer": "ipython3",
   "version": "3.7.4"
  }
 },
 "nbformat": 4,
 "nbformat_minor": 2
}
