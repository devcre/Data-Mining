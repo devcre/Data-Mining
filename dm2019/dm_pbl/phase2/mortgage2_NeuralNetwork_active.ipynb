{
 "cells": [
  {
   "cell_type": "code",
   "execution_count": 1,
   "metadata": {},
   "outputs": [],
   "source": [
    "import matplotlib.pyplot as plt\n",
    "import numpy as np\n",
    "import os\n",
    "import pandas as pd\n",
    "from sklearn.preprocessing import StandardScaler\n",
    "from sklearn.neural_network import MLPClassifier\n",
    "from sklearn.metrics import classification_report, accuracy_score\n",
    "from sklearn.metrics import confusion_matrix"
   ]
  },
  {
   "cell_type": "code",
   "execution_count": 2,
   "metadata": {},
   "outputs": [
    {
     "data": {
      "text/html": [
       "<div>\n",
       "<style scoped>\n",
       "    .dataframe tbody tr th:only-of-type {\n",
       "        vertical-align: middle;\n",
       "    }\n",
       "\n",
       "    .dataframe tbody tr th {\n",
       "        vertical-align: top;\n",
       "    }\n",
       "\n",
       "    .dataframe thead th {\n",
       "        text-align: right;\n",
       "    }\n",
       "</style>\n",
       "<table border=\"1\" class=\"dataframe\">\n",
       "  <thead>\n",
       "    <tr style=\"text-align: right;\">\n",
       "      <th></th>\n",
       "      <th>Bo_Age</th>\n",
       "      <th>Ln_Orig</th>\n",
       "      <th>Orig_LTV_Ratio_Pct</th>\n",
       "      <th>Credit_score</th>\n",
       "      <th>First_home</th>\n",
       "      <th>Tot_mthly_debt_exp</th>\n",
       "      <th>Tot_mthly_incm</th>\n",
       "      <th>orig_apprd_val_amt</th>\n",
       "      <th>pur_prc_amt</th>\n",
       "      <th>DTI Ratio</th>\n",
       "      <th>Status</th>\n",
       "      <th>OUTCOME</th>\n",
       "      <th>State</th>\n",
       "      <th>Median_state_inc</th>\n",
       "      <th>UPB&gt;Appraisal</th>\n",
       "    </tr>\n",
       "  </thead>\n",
       "  <tbody>\n",
       "    <tr>\n",
       "      <td>0</td>\n",
       "      <td>18</td>\n",
       "      <td>154755.0</td>\n",
       "      <td>95</td>\n",
       "      <td>801</td>\n",
       "      <td>N</td>\n",
       "      <td>1950</td>\n",
       "      <td>57390</td>\n",
       "      <td>265000</td>\n",
       "      <td>265000</td>\n",
       "      <td>0.033978</td>\n",
       "      <td>Active</td>\n",
       "      <td>non-default</td>\n",
       "      <td>CA</td>\n",
       "      <td>49,894</td>\n",
       "      <td>0</td>\n",
       "    </tr>\n",
       "    <tr>\n",
       "      <td>1</td>\n",
       "      <td>18</td>\n",
       "      <td>79500.0</td>\n",
       "      <td>89</td>\n",
       "      <td>721</td>\n",
       "      <td>N</td>\n",
       "      <td>1945</td>\n",
       "      <td>7000</td>\n",
       "      <td>283000</td>\n",
       "      <td>283000</td>\n",
       "      <td>0.277857</td>\n",
       "      <td>Pay-off</td>\n",
       "      <td>non-default</td>\n",
       "      <td>CA</td>\n",
       "      <td>49,894</td>\n",
       "      <td>0</td>\n",
       "    </tr>\n",
       "    <tr>\n",
       "      <td>2</td>\n",
       "      <td>18</td>\n",
       "      <td>104800.0</td>\n",
       "      <td>80</td>\n",
       "      <td>684</td>\n",
       "      <td>N</td>\n",
       "      <td>0</td>\n",
       "      <td>3000</td>\n",
       "      <td>153000</td>\n",
       "      <td>153000</td>\n",
       "      <td>0.000000</td>\n",
       "      <td>Active</td>\n",
       "      <td>non-default</td>\n",
       "      <td>LA</td>\n",
       "      <td>35,523</td>\n",
       "      <td>0</td>\n",
       "    </tr>\n",
       "    <tr>\n",
       "      <td>3</td>\n",
       "      <td>18</td>\n",
       "      <td>238400.0</td>\n",
       "      <td>80</td>\n",
       "      <td>621</td>\n",
       "      <td>N</td>\n",
       "      <td>14277</td>\n",
       "      <td>51250</td>\n",
       "      <td>525000</td>\n",
       "      <td>525000</td>\n",
       "      <td>0.278576</td>\n",
       "      <td>Active</td>\n",
       "      <td>non-default</td>\n",
       "      <td>OH</td>\n",
       "      <td>44,160</td>\n",
       "      <td>0</td>\n",
       "    </tr>\n",
       "    <tr>\n",
       "      <td>4</td>\n",
       "      <td>18</td>\n",
       "      <td>67900.0</td>\n",
       "      <td>97</td>\n",
       "      <td>660</td>\n",
       "      <td>N</td>\n",
       "      <td>0</td>\n",
       "      <td>6000</td>\n",
       "      <td>179000</td>\n",
       "      <td>178257</td>\n",
       "      <td>0.000000</td>\n",
       "      <td>Active</td>\n",
       "      <td>non-default</td>\n",
       "      <td>NV</td>\n",
       "      <td>46,984</td>\n",
       "      <td>0</td>\n",
       "    </tr>\n",
       "  </tbody>\n",
       "</table>\n",
       "</div>"
      ],
      "text/plain": [
       "   Bo_Age   Ln_Orig  Orig_LTV_Ratio_Pct  Credit_score First_home  \\\n",
       "0      18  154755.0                  95           801          N   \n",
       "1      18   79500.0                  89           721          N   \n",
       "2      18  104800.0                  80           684          N   \n",
       "3      18  238400.0                  80           621          N   \n",
       "4      18   67900.0                  97           660          N   \n",
       "\n",
       "   Tot_mthly_debt_exp  Tot_mthly_incm  orig_apprd_val_amt  pur_prc_amt  \\\n",
       "0                1950           57390              265000       265000   \n",
       "1                1945            7000              283000       283000   \n",
       "2                   0            3000              153000       153000   \n",
       "3               14277           51250              525000       525000   \n",
       "4                   0            6000              179000       178257   \n",
       "\n",
       "   DTI Ratio   Status      OUTCOME State Median_state_inc  UPB>Appraisal  \n",
       "0   0.033978   Active  non-default    CA           49,894              0  \n",
       "1   0.277857  Pay-off  non-default    CA           49,894              0  \n",
       "2   0.000000   Active  non-default    LA           35,523              0  \n",
       "3   0.278576   Active  non-default    OH           44,160              0  \n",
       "4   0.000000   Active  non-default    NV           46,984              0  "
      ]
     },
     "execution_count": 2,
     "metadata": {},
     "output_type": "execute_result"
    }
   ],
   "source": [
    "mort = pd.read_csv('../data/data_active.csv', header=0) # data about mortgage\n",
    "mort.head()"
   ]
  },
  {
   "cell_type": "code",
   "execution_count": 3,
   "metadata": {},
   "outputs": [
    {
     "data": {
      "text/plain": [
       "non-default    9948\n",
       "default         659\n",
       "Name: OUTCOME, dtype: int64"
      ]
     },
     "execution_count": 3,
     "metadata": {},
     "output_type": "execute_result"
    }
   ],
   "source": [
    "mort['OUTCOME'].value_counts()"
   ]
  },
  {
   "cell_type": "code",
   "execution_count": 4,
   "metadata": {},
   "outputs": [
    {
     "name": "stderr",
     "output_type": "stream",
     "text": [
      "c:\\anaconda3\\envs\\dm2019\\lib\\site-packages\\ipykernel_launcher.py:13: SettingWithCopyWarning: \n",
      "A value is trying to be set on a copy of a slice from a DataFrame\n",
      "\n",
      "See the caveats in the documentation: http://pandas.pydata.org/pandas-docs/stable/user_guide/indexing.html#returning-a-view-versus-a-copy\n",
      "  del sys.path[0]\n"
     ]
    }
   ],
   "source": [
    "# mort = pd.read_csv('../data_active.csv', header=0) # data about mortgage\n",
    "# mort.head()\n",
    "\n",
    "## First_home 문자형 데이터 변환\n",
    "mort['First_home'] = np.where(mort['First_home']=='Y',1,0)\n",
    "mort['First_home']\n",
    "\n",
    "## OUTCOME 데이터 변환\n",
    "mort['OUTCOME'] = np.where(mort['OUTCOME']=='non-default',0,1) # non-default = 0, default = 1\n",
    "\n",
    "## string 타입을 정수로 변환하기\n",
    "for k in range(0,10607):\n",
    "    mort.Median_state_inc[k] = np.float64(mort.Median_state_inc[k].replace(\",\", \"\"))\n",
    "\n",
    "## Separating 'target' feature\n",
    "outcome = mort.OUTCOME\n",
    "mort.drop(['OUTCOME'], axis='columns', inplace=True)\n",
    "\n",
    "mort = mort.drop('Status', axis=1)\n",
    "mort = mort.drop('State', axis=1)\n",
    "mort = mort.drop('orig_apprd_val_amt', axis=1)"
   ]
  },
  {
   "cell_type": "code",
   "execution_count": 5,
   "metadata": {},
   "outputs": [],
   "source": [
    "# X, y = mort, outcome\n",
    "## training data와 test data 나누기\n",
    "from sklearn.model_selection import train_test_split\n",
    "X_train, X_test, y_train, y_test = train_test_split(mort, outcome, test_size=0.25, random_state=1)\n",
    "\n",
    "scaler = StandardScaler()\n",
    "X_std = scaler.fit_transform(X_train)\n",
    "X_test_std = scaler.transform(X_test)"
   ]
  },
  {
   "cell_type": "code",
   "execution_count": 6,
   "metadata": {},
   "outputs": [],
   "source": [
    "from imblearn.over_sampling import SMOTE\n",
    "sm = SMOTE(ratio='auto', kind='regular')\n",
    "X_resampled, y_resampled = sm.fit_sample(X_std, y_train)"
   ]
  },
  {
   "cell_type": "code",
   "execution_count": 7,
   "metadata": {},
   "outputs": [],
   "source": [
    "nn = MLPClassifier(solver='lbfgs', alpha=1e-5,\n",
    "                    hidden_layer_sizes=(5, 2), random_state=1).fit(X_resampled, y_resampled)\n",
    "pred = nn.predict(X_test_std)"
   ]
  },
  {
   "cell_type": "code",
   "execution_count": 8,
   "metadata": {},
   "outputs": [
    {
     "name": "stdout",
     "output_type": "stream",
     "text": [
      "              precision    recall  f1-score   support\n",
      "\n",
      "           0       0.98      0.86      0.92      2478\n",
      "           1       0.26      0.69      0.38       174\n",
      "\n",
      "    accuracy                           0.85      2652\n",
      "   macro avg       0.62      0.78      0.65      2652\n",
      "weighted avg       0.93      0.85      0.88      2652\n",
      "\n"
     ]
    }
   ],
   "source": [
    "print(classification_report(y_test, pred))"
   ]
  },
  {
   "cell_type": "code",
   "execution_count": 9,
   "metadata": {},
   "outputs": [
    {
     "data": {
      "text/plain": [
       "array([[2138,  340],\n",
       "       [  54,  120]], dtype=int64)"
      ]
     },
     "execution_count": 9,
     "metadata": {},
     "output_type": "execute_result"
    }
   ],
   "source": [
    "confusion_matrix(y_test, pred)"
   ]
  },
  {
   "cell_type": "markdown",
   "metadata": {},
   "source": [
    "## No Oversampling"
   ]
  },
  {
   "cell_type": "code",
   "execution_count": 10,
   "metadata": {},
   "outputs": [
    {
     "data": {
      "text/html": [
       "<div>\n",
       "<style scoped>\n",
       "    .dataframe tbody tr th:only-of-type {\n",
       "        vertical-align: middle;\n",
       "    }\n",
       "\n",
       "    .dataframe tbody tr th {\n",
       "        vertical-align: top;\n",
       "    }\n",
       "\n",
       "    .dataframe thead th {\n",
       "        text-align: right;\n",
       "    }\n",
       "</style>\n",
       "<table border=\"1\" class=\"dataframe\">\n",
       "  <thead>\n",
       "    <tr style=\"text-align: right;\">\n",
       "      <th></th>\n",
       "      <th>Bo_Age</th>\n",
       "      <th>Ln_Orig</th>\n",
       "      <th>Orig_LTV_Ratio_Pct</th>\n",
       "      <th>Credit_score</th>\n",
       "      <th>First_home</th>\n",
       "      <th>Tot_mthly_debt_exp</th>\n",
       "      <th>Tot_mthly_incm</th>\n",
       "      <th>orig_apprd_val_amt</th>\n",
       "      <th>pur_prc_amt</th>\n",
       "      <th>DTI Ratio</th>\n",
       "      <th>Status</th>\n",
       "      <th>OUTCOME</th>\n",
       "      <th>State</th>\n",
       "      <th>Median_state_inc</th>\n",
       "      <th>UPB&gt;Appraisal</th>\n",
       "    </tr>\n",
       "  </thead>\n",
       "  <tbody>\n",
       "    <tr>\n",
       "      <td>0</td>\n",
       "      <td>18</td>\n",
       "      <td>154755.0</td>\n",
       "      <td>95</td>\n",
       "      <td>801</td>\n",
       "      <td>N</td>\n",
       "      <td>1950</td>\n",
       "      <td>57390</td>\n",
       "      <td>265000</td>\n",
       "      <td>265000</td>\n",
       "      <td>0.033978</td>\n",
       "      <td>Active</td>\n",
       "      <td>non-default</td>\n",
       "      <td>CA</td>\n",
       "      <td>49,894</td>\n",
       "      <td>0</td>\n",
       "    </tr>\n",
       "    <tr>\n",
       "      <td>1</td>\n",
       "      <td>18</td>\n",
       "      <td>79500.0</td>\n",
       "      <td>89</td>\n",
       "      <td>721</td>\n",
       "      <td>N</td>\n",
       "      <td>1945</td>\n",
       "      <td>7000</td>\n",
       "      <td>283000</td>\n",
       "      <td>283000</td>\n",
       "      <td>0.277857</td>\n",
       "      <td>Pay-off</td>\n",
       "      <td>non-default</td>\n",
       "      <td>CA</td>\n",
       "      <td>49,894</td>\n",
       "      <td>0</td>\n",
       "    </tr>\n",
       "    <tr>\n",
       "      <td>2</td>\n",
       "      <td>18</td>\n",
       "      <td>104800.0</td>\n",
       "      <td>80</td>\n",
       "      <td>684</td>\n",
       "      <td>N</td>\n",
       "      <td>0</td>\n",
       "      <td>3000</td>\n",
       "      <td>153000</td>\n",
       "      <td>153000</td>\n",
       "      <td>0.000000</td>\n",
       "      <td>Active</td>\n",
       "      <td>non-default</td>\n",
       "      <td>LA</td>\n",
       "      <td>35,523</td>\n",
       "      <td>0</td>\n",
       "    </tr>\n",
       "    <tr>\n",
       "      <td>3</td>\n",
       "      <td>18</td>\n",
       "      <td>238400.0</td>\n",
       "      <td>80</td>\n",
       "      <td>621</td>\n",
       "      <td>N</td>\n",
       "      <td>14277</td>\n",
       "      <td>51250</td>\n",
       "      <td>525000</td>\n",
       "      <td>525000</td>\n",
       "      <td>0.278576</td>\n",
       "      <td>Active</td>\n",
       "      <td>non-default</td>\n",
       "      <td>OH</td>\n",
       "      <td>44,160</td>\n",
       "      <td>0</td>\n",
       "    </tr>\n",
       "    <tr>\n",
       "      <td>4</td>\n",
       "      <td>18</td>\n",
       "      <td>67900.0</td>\n",
       "      <td>97</td>\n",
       "      <td>660</td>\n",
       "      <td>N</td>\n",
       "      <td>0</td>\n",
       "      <td>6000</td>\n",
       "      <td>179000</td>\n",
       "      <td>178257</td>\n",
       "      <td>0.000000</td>\n",
       "      <td>Active</td>\n",
       "      <td>non-default</td>\n",
       "      <td>NV</td>\n",
       "      <td>46,984</td>\n",
       "      <td>0</td>\n",
       "    </tr>\n",
       "  </tbody>\n",
       "</table>\n",
       "</div>"
      ],
      "text/plain": [
       "   Bo_Age   Ln_Orig  Orig_LTV_Ratio_Pct  Credit_score First_home  \\\n",
       "0      18  154755.0                  95           801          N   \n",
       "1      18   79500.0                  89           721          N   \n",
       "2      18  104800.0                  80           684          N   \n",
       "3      18  238400.0                  80           621          N   \n",
       "4      18   67900.0                  97           660          N   \n",
       "\n",
       "   Tot_mthly_debt_exp  Tot_mthly_incm  orig_apprd_val_amt  pur_prc_amt  \\\n",
       "0                1950           57390              265000       265000   \n",
       "1                1945            7000              283000       283000   \n",
       "2                   0            3000              153000       153000   \n",
       "3               14277           51250              525000       525000   \n",
       "4                   0            6000              179000       178257   \n",
       "\n",
       "   DTI Ratio   Status      OUTCOME State Median_state_inc  UPB>Appraisal  \n",
       "0   0.033978   Active  non-default    CA           49,894              0  \n",
       "1   0.277857  Pay-off  non-default    CA           49,894              0  \n",
       "2   0.000000   Active  non-default    LA           35,523              0  \n",
       "3   0.278576   Active  non-default    OH           44,160              0  \n",
       "4   0.000000   Active  non-default    NV           46,984              0  "
      ]
     },
     "execution_count": 10,
     "metadata": {},
     "output_type": "execute_result"
    }
   ],
   "source": [
    "mort_ = pd.read_csv('../data/data_active.csv', header=0) # data about mortgage\n",
    "mort_.head()"
   ]
  },
  {
   "cell_type": "code",
   "execution_count": 11,
   "metadata": {},
   "outputs": [
    {
     "name": "stderr",
     "output_type": "stream",
     "text": [
      "c:\\anaconda3\\envs\\dm2019\\lib\\site-packages\\ipykernel_launcher.py:12: SettingWithCopyWarning: \n",
      "A value is trying to be set on a copy of a slice from a DataFrame\n",
      "\n",
      "See the caveats in the documentation: http://pandas.pydata.org/pandas-docs/stable/user_guide/indexing.html#returning-a-view-versus-a-copy\n",
      "  if sys.path[0] == '':\n"
     ]
    }
   ],
   "source": [
    "# mort = pd.read_csv('../data_active.csv', header=0) # data about mortgage\n",
    "# mort.head()\n",
    "\n",
    "## First_home 문자형 데이터 변환\n",
    "mort_['First_home'] = np.where(mort_['First_home']=='Y',1,0)\n",
    "\n",
    "## OUTCOME 데이터 변환\n",
    "mort_['OUTCOME'] = np.where(mort_['OUTCOME']=='non-default',0,1) # non-default = 0, default = 1\n",
    "\n",
    "## string 타입을 정수로 변환하기\n",
    "for k in range(0,10607):\n",
    "    mort_.Median_state_inc[k] = np.float64(mort_.Median_state_inc[k].replace(\",\", \"\"))\n",
    "\n",
    "## Separating 'target' feature\n",
    "outcome_ = mort_.OUTCOME\n",
    "mort_.drop(['OUTCOME'], axis='columns', inplace=True)\n",
    "\n",
    "mort_ = mort_.drop('Status', axis=1)\n",
    "mort_ = mort_.drop('State', axis=1)\n",
    "mort_ = mort_.drop('orig_apprd_val_amt', axis=1)"
   ]
  },
  {
   "cell_type": "code",
   "execution_count": 12,
   "metadata": {},
   "outputs": [],
   "source": [
    "# X, y = mort, outcome\n",
    "## training data와 test data 나누기\n",
    "from sklearn.model_selection import train_test_split\n",
    "X_train_, X_test_, y_train_, y_test_ = train_test_split(mort_, outcome_, test_size=0.25, random_state=1)\n",
    "\n",
    "scaler = StandardScaler()\n",
    "X_std_ = scaler.fit_transform(X_train_)\n",
    "X_test_std_ = scaler.transform(X_test_)"
   ]
  },
  {
   "cell_type": "code",
   "execution_count": 13,
   "metadata": {},
   "outputs": [],
   "source": [
    "nn = MLPClassifier(solver='lbfgs', alpha=1e-5,\n",
    "                    hidden_layer_sizes=(5, 2), random_state=1).fit(X_std_, y_train_)\n",
    "pred_ = nn.predict(X_test_std_)"
   ]
  },
  {
   "cell_type": "code",
   "execution_count": 14,
   "metadata": {},
   "outputs": [
    {
     "name": "stdout",
     "output_type": "stream",
     "text": [
      "              precision    recall  f1-score   support\n",
      "\n",
      "           0       0.96      0.98      0.97      2478\n",
      "           1       0.63      0.40      0.49       174\n",
      "\n",
      "    accuracy                           0.94      2652\n",
      "   macro avg       0.79      0.69      0.73      2652\n",
      "weighted avg       0.94      0.94      0.94      2652\n",
      "\n"
     ]
    }
   ],
   "source": [
    "print(classification_report(y_test_, pred_))"
   ]
  },
  {
   "cell_type": "code",
   "execution_count": 15,
   "metadata": {},
   "outputs": [
    {
     "data": {
      "text/plain": [
       "array([[2437,   41],\n",
       "       [ 105,   69]], dtype=int64)"
      ]
     },
     "execution_count": 15,
     "metadata": {},
     "output_type": "execute_result"
    }
   ],
   "source": [
    "from sklearn.metrics import confusion_matrix\n",
    "confusion_matrix(y_test_, pred_)"
   ]
  },
  {
   "cell_type": "code",
   "execution_count": null,
   "metadata": {},
   "outputs": [],
   "source": []
  }
 ],
 "metadata": {
  "kernelspec": {
   "display_name": "Python 3",
   "language": "python",
   "name": "python3"
  },
  "language_info": {
   "codemirror_mode": {
    "name": "ipython",
    "version": 3
   },
   "file_extension": ".py",
   "mimetype": "text/x-python",
   "name": "python",
   "nbconvert_exporter": "python",
   "pygments_lexer": "ipython3",
   "version": "3.7.4"
  }
 },
 "nbformat": 4,
 "nbformat_minor": 2
}
