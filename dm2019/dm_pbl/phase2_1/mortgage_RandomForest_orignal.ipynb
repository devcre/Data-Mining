{
 "cells": [
  {
   "cell_type": "code",
   "execution_count": 21,
   "metadata": {},
   "outputs": [
    {
     "data": {
      "text/html": [
       "<div>\n",
       "<style scoped>\n",
       "    .dataframe tbody tr th:only-of-type {\n",
       "        vertical-align: middle;\n",
       "    }\n",
       "\n",
       "    .dataframe tbody tr th {\n",
       "        vertical-align: top;\n",
       "    }\n",
       "\n",
       "    .dataframe thead th {\n",
       "        text-align: right;\n",
       "    }\n",
       "</style>\n",
       "<table border=\"1\" class=\"dataframe\">\n",
       "  <thead>\n",
       "    <tr style=\"text-align: right;\">\n",
       "      <th></th>\n",
       "      <th>Bo_Age</th>\n",
       "      <th>Ln_Orig</th>\n",
       "      <th>Orig_LTV_Ratio_Pct</th>\n",
       "      <th>Credit_score</th>\n",
       "      <th>First_home</th>\n",
       "      <th>Tot_mthly_debt_exp</th>\n",
       "      <th>Tot_mthly_incm</th>\n",
       "      <th>orig_apprd_val_amt</th>\n",
       "      <th>pur_prc_amt</th>\n",
       "      <th>DTI Ratio</th>\n",
       "      <th>Status</th>\n",
       "      <th>OUTCOME</th>\n",
       "      <th>State</th>\n",
       "      <th>Median_state_inc</th>\n",
       "      <th>UPB&gt;Appraisal</th>\n",
       "    </tr>\n",
       "  </thead>\n",
       "  <tbody>\n",
       "    <tr>\n",
       "      <td>0</td>\n",
       "      <td>37</td>\n",
       "      <td>75650.0</td>\n",
       "      <td>85</td>\n",
       "      <td>669</td>\n",
       "      <td>N</td>\n",
       "      <td>1707</td>\n",
       "      <td>6000</td>\n",
       "      <td>169000</td>\n",
       "      <td>160000</td>\n",
       "      <td>0.284500</td>\n",
       "      <td>Active</td>\n",
       "      <td>non-default</td>\n",
       "      <td>FL</td>\n",
       "      <td>40,171</td>\n",
       "      <td>0</td>\n",
       "    </tr>\n",
       "    <tr>\n",
       "      <td>1</td>\n",
       "      <td>46</td>\n",
       "      <td>390775.0</td>\n",
       "      <td>102</td>\n",
       "      <td>684</td>\n",
       "      <td>N</td>\n",
       "      <td>0</td>\n",
       "      <td>5025</td>\n",
       "      <td>310000</td>\n",
       "      <td>309000</td>\n",
       "      <td>0.000000</td>\n",
       "      <td>Pay-off</td>\n",
       "      <td>non-default</td>\n",
       "      <td>NY</td>\n",
       "      <td>44,228</td>\n",
       "      <td>1</td>\n",
       "    </tr>\n",
       "    <tr>\n",
       "      <td>2</td>\n",
       "      <td>30</td>\n",
       "      <td>112500.0</td>\n",
       "      <td>90</td>\n",
       "      <td>662</td>\n",
       "      <td>Y</td>\n",
       "      <td>1812</td>\n",
       "      <td>4800</td>\n",
       "      <td>177000</td>\n",
       "      <td>176450</td>\n",
       "      <td>0.377500</td>\n",
       "      <td>Pay-off</td>\n",
       "      <td>non-default</td>\n",
       "      <td>CA</td>\n",
       "      <td>49,894</td>\n",
       "      <td>0</td>\n",
       "    </tr>\n",
       "    <tr>\n",
       "      <td>3</td>\n",
       "      <td>24</td>\n",
       "      <td>85250.0</td>\n",
       "      <td>97</td>\n",
       "      <td>647</td>\n",
       "      <td>N</td>\n",
       "      <td>3395</td>\n",
       "      <td>6934</td>\n",
       "      <td>113000</td>\n",
       "      <td>110000</td>\n",
       "      <td>0.489616</td>\n",
       "      <td>Pay-off</td>\n",
       "      <td>non-default</td>\n",
       "      <td>GA</td>\n",
       "      <td>43,217</td>\n",
       "      <td>0</td>\n",
       "    </tr>\n",
       "    <tr>\n",
       "      <td>4</td>\n",
       "      <td>35</td>\n",
       "      <td>114000.0</td>\n",
       "      <td>100</td>\n",
       "      <td>791</td>\n",
       "      <td>N</td>\n",
       "      <td>3801</td>\n",
       "      <td>5504</td>\n",
       "      <td>103000</td>\n",
       "      <td>103000</td>\n",
       "      <td>0.690589</td>\n",
       "      <td>Pay-off</td>\n",
       "      <td>non-default</td>\n",
       "      <td>NH</td>\n",
       "      <td>57,352</td>\n",
       "      <td>1</td>\n",
       "    </tr>\n",
       "  </tbody>\n",
       "</table>\n",
       "</div>"
      ],
      "text/plain": [
       "   Bo_Age   Ln_Orig  Orig_LTV_Ratio_Pct  Credit_score First_home  \\\n",
       "0      37   75650.0                  85           669          N   \n",
       "1      46  390775.0                 102           684          N   \n",
       "2      30  112500.0                  90           662          Y   \n",
       "3      24   85250.0                  97           647          N   \n",
       "4      35  114000.0                 100           791          N   \n",
       "\n",
       "   Tot_mthly_debt_exp  Tot_mthly_incm  orig_apprd_val_amt  pur_prc_amt  \\\n",
       "0                1707            6000              169000       160000   \n",
       "1                   0            5025              310000       309000   \n",
       "2                1812            4800              177000       176450   \n",
       "3                3395            6934              113000       110000   \n",
       "4                3801            5504              103000       103000   \n",
       "\n",
       "   DTI Ratio   Status      OUTCOME State Median_state_inc  UPB>Appraisal  \n",
       "0   0.284500   Active  non-default    FL           40,171              0  \n",
       "1   0.000000  Pay-off  non-default    NY           44,228              1  \n",
       "2   0.377500  Pay-off  non-default    CA           49,894              0  \n",
       "3   0.489616  Pay-off  non-default    GA           43,217              0  \n",
       "4   0.690589  Pay-off  non-default    NH           57,352              1  "
      ]
     },
     "execution_count": 21,
     "metadata": {},
     "output_type": "execute_result"
    }
   ],
   "source": [
    "import matplotlib.pyplot as plt\n",
    "import numpy as np\n",
    "import os\n",
    "import pandas as pd\n",
    "from sklearn.preprocessing import StandardScaler\n",
    "from sklearn.ensemble import RandomForestClassifier\n",
    "from sklearn.metrics import classification_report, accuracy_score\n",
    "from sklearn.metrics import confusion_matrix\n",
    "\n",
    "mort = pd.read_csv('../data/data.csv', header=0) # data about mortgage\n",
    "mort.head()"
   ]
  },
  {
   "cell_type": "markdown",
   "metadata": {},
   "source": [
    "## 전처리 과정"
   ]
  },
  {
   "cell_type": "code",
   "execution_count": 22,
   "metadata": {},
   "outputs": [
    {
     "name": "stderr",
     "output_type": "stream",
     "text": [
      "c:\\anaconda3\\envs\\dm2019\\lib\\site-packages\\ipykernel_launcher.py:9: SettingWithCopyWarning: \n",
      "A value is trying to be set on a copy of a slice from a DataFrame\n",
      "\n",
      "See the caveats in the documentation: http://pandas.pydata.org/pandas-docs/stable/user_guide/indexing.html#returning-a-view-versus-a-copy\n",
      "  if __name__ == '__main__':\n"
     ]
    },
    {
     "data": {
      "text/html": [
       "<div>\n",
       "<style scoped>\n",
       "    .dataframe tbody tr th:only-of-type {\n",
       "        vertical-align: middle;\n",
       "    }\n",
       "\n",
       "    .dataframe tbody tr th {\n",
       "        vertical-align: top;\n",
       "    }\n",
       "\n",
       "    .dataframe thead th {\n",
       "        text-align: right;\n",
       "    }\n",
       "</style>\n",
       "<table border=\"1\" class=\"dataframe\">\n",
       "  <thead>\n",
       "    <tr style=\"text-align: right;\">\n",
       "      <th></th>\n",
       "      <th>Bo_Age</th>\n",
       "      <th>Ln_Orig</th>\n",
       "      <th>Orig_LTV_Ratio_Pct</th>\n",
       "      <th>Credit_score</th>\n",
       "      <th>First_home</th>\n",
       "      <th>Tot_mthly_debt_exp</th>\n",
       "      <th>Tot_mthly_incm</th>\n",
       "      <th>pur_prc_amt</th>\n",
       "      <th>DTI Ratio</th>\n",
       "      <th>Median_state_inc</th>\n",
       "    </tr>\n",
       "  </thead>\n",
       "  <tbody>\n",
       "    <tr>\n",
       "      <td>0</td>\n",
       "      <td>37</td>\n",
       "      <td>75650.0</td>\n",
       "      <td>85</td>\n",
       "      <td>669</td>\n",
       "      <td>0</td>\n",
       "      <td>1707</td>\n",
       "      <td>6000</td>\n",
       "      <td>160000</td>\n",
       "      <td>0.284500</td>\n",
       "      <td>40171</td>\n",
       "    </tr>\n",
       "    <tr>\n",
       "      <td>1</td>\n",
       "      <td>46</td>\n",
       "      <td>390775.0</td>\n",
       "      <td>102</td>\n",
       "      <td>684</td>\n",
       "      <td>0</td>\n",
       "      <td>0</td>\n",
       "      <td>5025</td>\n",
       "      <td>309000</td>\n",
       "      <td>0.000000</td>\n",
       "      <td>44228</td>\n",
       "    </tr>\n",
       "    <tr>\n",
       "      <td>2</td>\n",
       "      <td>30</td>\n",
       "      <td>112500.0</td>\n",
       "      <td>90</td>\n",
       "      <td>662</td>\n",
       "      <td>1</td>\n",
       "      <td>1812</td>\n",
       "      <td>4800</td>\n",
       "      <td>176450</td>\n",
       "      <td>0.377500</td>\n",
       "      <td>49894</td>\n",
       "    </tr>\n",
       "    <tr>\n",
       "      <td>3</td>\n",
       "      <td>24</td>\n",
       "      <td>85250.0</td>\n",
       "      <td>97</td>\n",
       "      <td>647</td>\n",
       "      <td>0</td>\n",
       "      <td>3395</td>\n",
       "      <td>6934</td>\n",
       "      <td>110000</td>\n",
       "      <td>0.489616</td>\n",
       "      <td>43217</td>\n",
       "    </tr>\n",
       "    <tr>\n",
       "      <td>4</td>\n",
       "      <td>35</td>\n",
       "      <td>114000.0</td>\n",
       "      <td>100</td>\n",
       "      <td>791</td>\n",
       "      <td>0</td>\n",
       "      <td>3801</td>\n",
       "      <td>5504</td>\n",
       "      <td>103000</td>\n",
       "      <td>0.690589</td>\n",
       "      <td>57352</td>\n",
       "    </tr>\n",
       "    <tr>\n",
       "      <td>...</td>\n",
       "      <td>...</td>\n",
       "      <td>...</td>\n",
       "      <td>...</td>\n",
       "      <td>...</td>\n",
       "      <td>...</td>\n",
       "      <td>...</td>\n",
       "      <td>...</td>\n",
       "      <td>...</td>\n",
       "      <td>...</td>\n",
       "      <td>...</td>\n",
       "    </tr>\n",
       "    <tr>\n",
       "      <td>10602</td>\n",
       "      <td>37</td>\n",
       "      <td>280200.0</td>\n",
       "      <td>95</td>\n",
       "      <td>652</td>\n",
       "      <td>1</td>\n",
       "      <td>727</td>\n",
       "      <td>1827</td>\n",
       "      <td>80000</td>\n",
       "      <td>0.397920</td>\n",
       "      <td>42590</td>\n",
       "    </tr>\n",
       "    <tr>\n",
       "      <td>10603</td>\n",
       "      <td>30</td>\n",
       "      <td>57000.0</td>\n",
       "      <td>94</td>\n",
       "      <td>589</td>\n",
       "      <td>0</td>\n",
       "      <td>1703</td>\n",
       "      <td>3941</td>\n",
       "      <td>108000</td>\n",
       "      <td>0.432124</td>\n",
       "      <td>45787</td>\n",
       "    </tr>\n",
       "    <tr>\n",
       "      <td>10604</td>\n",
       "      <td>33</td>\n",
       "      <td>153200.0</td>\n",
       "      <td>95</td>\n",
       "      <td>675</td>\n",
       "      <td>1</td>\n",
       "      <td>1726</td>\n",
       "      <td>3707</td>\n",
       "      <td>154000</td>\n",
       "      <td>0.465606</td>\n",
       "      <td>43217</td>\n",
       "    </tr>\n",
       "    <tr>\n",
       "      <td>10605</td>\n",
       "      <td>38</td>\n",
       "      <td>158850.0</td>\n",
       "      <td>100</td>\n",
       "      <td>786</td>\n",
       "      <td>1</td>\n",
       "      <td>1364</td>\n",
       "      <td>2500</td>\n",
       "      <td>92000</td>\n",
       "      <td>0.545600</td>\n",
       "      <td>40171</td>\n",
       "    </tr>\n",
       "    <tr>\n",
       "      <td>10606</td>\n",
       "      <td>37</td>\n",
       "      <td>47000.0</td>\n",
       "      <td>89</td>\n",
       "      <td>683</td>\n",
       "      <td>1</td>\n",
       "      <td>2251</td>\n",
       "      <td>8541</td>\n",
       "      <td>189000</td>\n",
       "      <td>0.263552</td>\n",
       "      <td>41275</td>\n",
       "    </tr>\n",
       "  </tbody>\n",
       "</table>\n",
       "<p>10607 rows × 10 columns</p>\n",
       "</div>"
      ],
      "text/plain": [
       "       Bo_Age   Ln_Orig  Orig_LTV_Ratio_Pct  Credit_score  First_home  \\\n",
       "0          37   75650.0                  85           669           0   \n",
       "1          46  390775.0                 102           684           0   \n",
       "2          30  112500.0                  90           662           1   \n",
       "3          24   85250.0                  97           647           0   \n",
       "4          35  114000.0                 100           791           0   \n",
       "...       ...       ...                 ...           ...         ...   \n",
       "10602      37  280200.0                  95           652           1   \n",
       "10603      30   57000.0                  94           589           0   \n",
       "10604      33  153200.0                  95           675           1   \n",
       "10605      38  158850.0                 100           786           1   \n",
       "10606      37   47000.0                  89           683           1   \n",
       "\n",
       "       Tot_mthly_debt_exp  Tot_mthly_incm  pur_prc_amt  DTI Ratio  \\\n",
       "0                    1707            6000       160000   0.284500   \n",
       "1                       0            5025       309000   0.000000   \n",
       "2                    1812            4800       176450   0.377500   \n",
       "3                    3395            6934       110000   0.489616   \n",
       "4                    3801            5504       103000   0.690589   \n",
       "...                   ...             ...          ...        ...   \n",
       "10602                 727            1827        80000   0.397920   \n",
       "10603                1703            3941       108000   0.432124   \n",
       "10604                1726            3707       154000   0.465606   \n",
       "10605                1364            2500        92000   0.545600   \n",
       "10606                2251            8541       189000   0.263552   \n",
       "\n",
       "      Median_state_inc  \n",
       "0                40171  \n",
       "1                44228  \n",
       "2                49894  \n",
       "3                43217  \n",
       "4                57352  \n",
       "...                ...  \n",
       "10602            42590  \n",
       "10603            45787  \n",
       "10604            43217  \n",
       "10605            40171  \n",
       "10606            41275  \n",
       "\n",
       "[10607 rows x 10 columns]"
      ]
     },
     "execution_count": 22,
     "metadata": {},
     "output_type": "execute_result"
    }
   ],
   "source": [
    "## First_home 문자형 데이터 변환\n",
    "mort['First_home'] = np.where(mort['First_home']=='Y',1,0)\n",
    "\n",
    "## OUTCOME 데이터 변환\n",
    "mort['OUTCOME'] = np.where(mort['OUTCOME']=='non-default',0,1) # non-default = 0, default = 1\n",
    "\n",
    "## string 타입을 정수로 변환하기\n",
    "for k in range(0,10607):\n",
    "    mort.Median_state_inc[k] = np.float64(mort.Median_state_inc[k].replace(\",\", \"\"))\n",
    "    \n",
    "## Separating 'target' feature\n",
    "outcome = mort.OUTCOME\n",
    "mort.drop(['OUTCOME'], axis='columns', inplace=True)\n",
    "\n",
    "## Delete feature\n",
    "mort = mort.drop('Status', axis=1)\n",
    "mort = mort.drop('State', axis=1)\n",
    "mort = mort.drop('orig_apprd_val_amt', axis=1)\n",
    "mort = mort.drop('UPB>Appraisal', axis=1)\n",
    "\n",
    "mort"
   ]
  },
  {
   "cell_type": "code",
   "execution_count": 42,
   "metadata": {},
   "outputs": [
    {
     "data": {
      "text/plain": [
       "1    7723\n",
       "0    7723\n",
       "dtype: int64"
      ]
     },
     "execution_count": 42,
     "metadata": {},
     "output_type": "execute_result"
    }
   ],
   "source": [
    "# X, y = mort, outcome\n",
    "## training data와 test data 나누기\n",
    "from sklearn.model_selection import train_test_split\n",
    "X_train, X_test, y_train, y_test = train_test_split(mort, outcome, test_size=0.25, random_state=1)\n",
    "\n",
    "scaler = StandardScaler()\n",
    "X_std = scaler.fit_transform(X_train)\n",
    "X_test_std = scaler.transform(X_test)\n",
    "\n",
    "from imblearn.over_sampling import SMOTE\n",
    "sm = SMOTE(ratio='auto', kind='regular')\n",
    "X_resampled, y_resampled = sm.fit_sample(X_std, y_train)\n",
    "\n",
    "pd.Series(y_resampled).value_counts()"
   ]
  },
  {
   "cell_type": "code",
   "execution_count": 43,
   "metadata": {},
   "outputs": [],
   "source": [
    "## 특징 선택\n",
    "from sklearn.feature_selection import SelectKBest, f_classif\n",
    "selector = SelectKBest(f_classif, k = 7).fit(X_resampled, y_resampled)\n",
    "X_resampled_f = selector.transform(X_resampled)\n",
    "X_test_std_f = selector.transform(X_test_std)"
   ]
  },
  {
   "cell_type": "code",
   "execution_count": 25,
   "metadata": {},
   "outputs": [],
   "source": [
    "forest = RandomForestClassifier(criterion='gini', n_estimators=500, max_leaf_nodes=16, random_state=1)\n",
    "forest.fit(X_resampled, y_resampled)\n",
    "\n",
    "pred = forest.predict(X_test_std)"
   ]
  },
  {
   "cell_type": "code",
   "execution_count": 26,
   "metadata": {},
   "outputs": [
    {
     "name": "stdout",
     "output_type": "stream",
     "text": [
      "              precision    recall  f1-score   support\n",
      "\n",
      "           0       0.99      0.78      0.87      2602\n",
      "           1       0.04      0.50      0.08        50\n",
      "\n",
      "    accuracy                           0.77      2652\n",
      "   macro avg       0.51      0.64      0.47      2652\n",
      "weighted avg       0.97      0.77      0.85      2652\n",
      "\n"
     ]
    }
   ],
   "source": [
    "print(classification_report(y_test, pred))"
   ]
  },
  {
   "cell_type": "code",
   "execution_count": 27,
   "metadata": {},
   "outputs": [
    {
     "data": {
      "text/plain": [
       "array([[2019,  583],\n",
       "       [  25,   25]], dtype=int64)"
      ]
     },
     "execution_count": 27,
     "metadata": {},
     "output_type": "execute_result"
    }
   ],
   "source": [
    "confusion_matrix(y_test, pred)"
   ]
  },
  {
   "cell_type": "code",
   "execution_count": 28,
   "metadata": {},
   "outputs": [
    {
     "data": {
      "text/plain": [
       "0.07598784194528875"
      ]
     },
     "execution_count": 28,
     "metadata": {},
     "output_type": "execute_result"
    }
   ],
   "source": [
    "from sklearn.metrics import f1_score\n",
    "f1_score(y_test, pred)"
   ]
  },
  {
   "cell_type": "markdown",
   "metadata": {},
   "source": [
    "## 특징 선택 적용"
   ]
  },
  {
   "cell_type": "code",
   "execution_count": 29,
   "metadata": {},
   "outputs": [],
   "source": [
    "forest = RandomForestClassifier(criterion='gini', n_estimators=500, max_leaf_nodes=16, random_state=1)\n",
    "forest.fit(X_resampled_f, y_resampled)\n",
    "\n",
    "pred = forest.predict(X_test_std_f)"
   ]
  },
  {
   "cell_type": "code",
   "execution_count": 30,
   "metadata": {},
   "outputs": [
    {
     "name": "stdout",
     "output_type": "stream",
     "text": [
      "              precision    recall  f1-score   support\n",
      "\n",
      "           0       0.99      0.77      0.87      2602\n",
      "           1       0.04      0.50      0.07        50\n",
      "\n",
      "    accuracy                           0.77      2652\n",
      "   macro avg       0.51      0.64      0.47      2652\n",
      "weighted avg       0.97      0.77      0.85      2652\n",
      "\n"
     ]
    }
   ],
   "source": [
    "print(classification_report(y_test, pred))"
   ]
  },
  {
   "cell_type": "code",
   "execution_count": 31,
   "metadata": {},
   "outputs": [
    {
     "data": {
      "text/plain": [
       "array([[2008,  594],\n",
       "       [  25,   25]], dtype=int64)"
      ]
     },
     "execution_count": 31,
     "metadata": {},
     "output_type": "execute_result"
    }
   ],
   "source": [
    "confusion_matrix(y_test, pred)"
   ]
  },
  {
   "cell_type": "markdown",
   "metadata": {},
   "source": [
    "## GridSearchCV"
   ]
  },
  {
   "cell_type": "code",
   "execution_count": 15,
   "metadata": {},
   "outputs": [
    {
     "data": {
      "text/plain": [
       "1    7723\n",
       "0    7723\n",
       "dtype: int64"
      ]
     },
     "execution_count": 15,
     "metadata": {},
     "output_type": "execute_result"
    }
   ],
   "source": [
    "# X, y = mort, outcome\n",
    "## training data와 test data 나누기\n",
    "from sklearn.model_selection import train_test_split\n",
    "X_train, X_test, y_train, y_test = train_test_split(mort, outcome, test_size=0.25, random_state=1)\n",
    "\n",
    "scaler = StandardScaler()\n",
    "X_std = scaler.fit_transform(X_train)\n",
    "X_test_std = scaler.transform(X_test)\n",
    "\n",
    "from imblearn.over_sampling import SMOTE\n",
    "sm = SMOTE(ratio='auto', kind='regular')\n",
    "X_resampled, y_resampled = sm.fit_sample(X_std, y_train)\n",
    "\n",
    "pd.Series(y_resampled).value_counts()"
   ]
  },
  {
   "cell_type": "code",
   "execution_count": 44,
   "metadata": {},
   "outputs": [],
   "source": [
    "from sklearn.model_selection import GridSearchCV\n",
    "param_grid = {\n",
    "    'n_estimators':[800],\n",
    "    'max_leaf_nodes':[64],\n",
    "    'max_depth': [20]\n",
    "}\n",
    "forest_g = RandomForestClassifier(criterion='gini', random_state=1, n_jobs=-1)\n",
    "gs = GridSearchCV(forest_g, param_grid, cv=5).fit(X_resampled_f, y_resampled)"
   ]
  },
  {
   "cell_type": "code",
   "execution_count": 45,
   "metadata": {},
   "outputs": [
    {
     "data": {
      "text/plain": [
       "{'max_depth': 20, 'max_leaf_nodes': 64, 'n_estimators': 800}"
      ]
     },
     "execution_count": 45,
     "metadata": {},
     "output_type": "execute_result"
    }
   ],
   "source": [
    "gs.best_params_"
   ]
  },
  {
   "cell_type": "code",
   "execution_count": 46,
   "metadata": {},
   "outputs": [],
   "source": [
    "pred_gs = gs.predict(X_test_std_f)"
   ]
  },
  {
   "cell_type": "code",
   "execution_count": 47,
   "metadata": {},
   "outputs": [
    {
     "name": "stdout",
     "output_type": "stream",
     "text": [
      "              precision    recall  f1-score   support\n",
      "\n",
      "           0       0.99      0.83      0.90      2602\n",
      "           1       0.04      0.42      0.08        50\n",
      "\n",
      "    accuracy                           0.82      2652\n",
      "   macro avg       0.52      0.62      0.49      2652\n",
      "weighted avg       0.97      0.82      0.88      2652\n",
      "\n"
     ]
    }
   ],
   "source": [
    "print(classification_report(y_test, pred_gs))"
   ]
  },
  {
   "cell_type": "code",
   "execution_count": 48,
   "metadata": {},
   "outputs": [
    {
     "data": {
      "text/plain": [
       "array([[2152,  450],\n",
       "       [  29,   21]], dtype=int64)"
      ]
     },
     "execution_count": 48,
     "metadata": {},
     "output_type": "execute_result"
    }
   ],
   "source": [
    "confusion_matrix(y_test, pred_gs)"
   ]
  },
  {
   "cell_type": "code",
   "execution_count": null,
   "metadata": {},
   "outputs": [],
   "source": []
  }
 ],
 "metadata": {
  "kernelspec": {
   "display_name": "Python 3",
   "language": "python",
   "name": "python3"
  },
  "language_info": {
   "codemirror_mode": {
    "name": "ipython",
    "version": 3
   },
   "file_extension": ".py",
   "mimetype": "text/x-python",
   "name": "python",
   "nbconvert_exporter": "python",
   "pygments_lexer": "ipython3",
   "version": "3.7.4"
  }
 },
 "nbformat": 4,
 "nbformat_minor": 2
}
